{
 "cells": [
  {
   "cell_type": "markdown",
   "metadata": {},
   "source": [
    "### Top Songs and Artists\n",
    "\n",
    "based on milliseconds? connect to api?"
   ]
  },
  {
   "cell_type": "code",
   "execution_count": 9,
   "metadata": {},
   "outputs": [],
   "source": [
    "import SpotifyAnalyzer"
   ]
  },
  {
   "cell_type": "code",
   "execution_count": 12,
   "metadata": {},
   "outputs": [
    {
     "name": "stderr",
     "output_type": "stream",
     "text": [
      "/Users/carolinejung/spotify-2016-2024/SpotifyAnalyzer.py:15: DtypeWarning: Columns (18,19) have mixed types. Specify dtype option on import or set low_memory=False.\n",
      "  data = pd.read_csv(self.dir_path + self.filepath, index_col=0)\n"
     ]
    }
   ],
   "source": [
    "sp = SpotifyAnalyzer.Processor()\n",
    "data = sp.read_clean_csv()"
   ]
  },
  {
   "cell_type": "code",
   "execution_count": 3,
   "metadata": {},
   "outputs": [
    {
     "data": {
      "text/plain": [
       "[{'danceability': 0.625,\n",
       "  'energy': 0.824,\n",
       "  'key': 0,\n",
       "  'loudness': -4.619,\n",
       "  'mode': 0,\n",
       "  'speechiness': 0.0614,\n",
       "  'acousticness': 0.000884,\n",
       "  'instrumentalness': 0,\n",
       "  'liveness': 0.0908,\n",
       "  'valence': 0.438,\n",
       "  'tempo': 94.963,\n",
       "  'type': 'audio_features',\n",
       "  'id': '5XO1SOADQxkdqGLFxX8rLN',\n",
       "  'uri': 'spotify:track:5XO1SOADQxkdqGLFxX8rLN',\n",
       "  'track_href': 'https://api.spotify.com/v1/tracks/5XO1SOADQxkdqGLFxX8rLN',\n",
       "  'analysis_url': 'https://api.spotify.com/v1/audio-analysis/5XO1SOADQxkdqGLFxX8rLN',\n",
       "  'duration_ms': 177795,\n",
       "  'time_signature': 4},\n",
       " {'danceability': 0.625,\n",
       "  'energy': 0.604,\n",
       "  'key': 10,\n",
       "  'loudness': -7.415,\n",
       "  'mode': 0,\n",
       "  'speechiness': 0.339,\n",
       "  'acousticness': 0.257,\n",
       "  'instrumentalness': 2.06e-05,\n",
       "  'liveness': 0.129,\n",
       "  'valence': 0.372,\n",
       "  'tempo': 174.089,\n",
       "  'type': 'audio_features',\n",
       "  'id': '6qmvAJSUfVGMubvI2awW7p',\n",
       "  'uri': 'spotify:track:6qmvAJSUfVGMubvI2awW7p',\n",
       "  'track_href': 'https://api.spotify.com/v1/tracks/6qmvAJSUfVGMubvI2awW7p',\n",
       "  'analysis_url': 'https://api.spotify.com/v1/audio-analysis/6qmvAJSUfVGMubvI2awW7p',\n",
       "  'duration_ms': 169722,\n",
       "  'time_signature': 4}]"
      ]
     },
     "execution_count": 3,
     "metadata": {},
     "output_type": "execute_result"
    }
   ],
   "source": [
    "# create api and connect to it\n",
    "import spotipy\n",
    "from spotipy.oauth2 import SpotifyClientCredentials\n",
    "\n",
    "import os\n",
    "id = os.getenv(\"SPOTIFY_CLIENT_ID\")\n",
    "secret = os.getenv(\"SPOTIFY_CLIENT_SECRET\")\n",
    "\n",
    "sp = spotipy.Spotify(auth_manager=SpotifyClientCredentials())\n",
    "sp.track(\"spotify:track:5XO1SOADQxkdqGLFxX8rLN\")[\"duration_ms\"]\n",
    "\n",
    "\n",
    "test_track_ids = [\"spotify:track:5XO1SOADQxkdqGLFxX8rLN\", \"spotify:track:6qmvAJSUfVGMubvI2awW7p\"]\n",
    "all = sp.tracks(test_track_ids)[\"tracks\"]\n",
    "all[0] # one song\n",
    "all[1] # another song\n",
    "\n",
    "\n",
    "all = sp.audio_features(test_track_ids) # this is what we want, limit of 100 tracks at once"
   ]
  },
  {
   "cell_type": "code",
   "execution_count": 21,
   "metadata": {},
   "outputs": [
    {
     "data": {
      "text/plain": [
       "1230"
      ]
     },
     "execution_count": 21,
     "metadata": {},
     "output_type": "execute_result"
    }
   ],
   "source": [
    "import numpy as np\n",
    "\n",
    "data[\"spotify_track_uri\"] # create lists of 100\n",
    "num_groups = int(np.ceil(len(data.index)/100))\n",
    "\n",
    "# TODO: split up list of songs into lengths of 100\n",
    "\n",
    "#sp.client().audio_features(test_track_ids)\n",
    "\n",
    "\n",
    "# top artists: get percentage of milliseconds listened to"
   ]
  }
 ],
 "metadata": {
  "kernelspec": {
   "display_name": "Python 3",
   "language": "python",
   "name": "python3"
  },
  "language_info": {
   "codemirror_mode": {
    "name": "ipython",
    "version": 3
   },
   "file_extension": ".py",
   "mimetype": "text/x-python",
   "name": "python",
   "nbconvert_exporter": "python",
   "pygments_lexer": "ipython3",
   "version": "3.10.6"
  }
 },
 "nbformat": 4,
 "nbformat_minor": 2
}
